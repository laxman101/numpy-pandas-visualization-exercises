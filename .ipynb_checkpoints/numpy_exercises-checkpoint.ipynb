{
 "cells": [
  {
   "cell_type": "code",
   "execution_count": 5,
   "id": "49844fe8",
   "metadata": {},
   "outputs": [],
   "source": [
    "import numpy as np"
   ]
  },
  {
   "cell_type": "code",
   "execution_count": null,
   "id": "656b8e9b",
   "metadata": {},
   "outputs": [],
   "source": [
    "# a = np.array([4, 10, 12, 23, -2, -1, 0, 0, 0, -6, 3, -7]"
   ]
  },
  {
   "cell_type": "code",
   "execution_count": 1,
   "id": "e9cd7055",
   "metadata": {},
   "outputs": [],
   "source": [
    "# 1. How many negative numbers are there?"
   ]
  },
  {
   "cell_type": "code",
   "execution_count": null,
   "id": "1bc862cc",
   "metadata": {},
   "outputs": [],
   "source": []
  }
 ],
 "metadata": {
  "kernelspec": {
   "display_name": "Python 3",
   "language": "python",
   "name": "python3"
  },
  "language_info": {
   "codemirror_mode": {
    "name": "ipython",
    "version": 3
   },
   "file_extension": ".py",
   "mimetype": "text/x-python",
   "name": "python",
   "nbconvert_exporter": "python",
   "pygments_lexer": "ipython3",
   "version": "3.8.8"
  }
 },
 "nbformat": 4,
 "nbformat_minor": 5
}
